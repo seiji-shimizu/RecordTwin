{
 "cells": [
  {
   "cell_type": "code",
   "execution_count": 6,
   "metadata": {},
   "outputs": [],
   "source": [
    "import os"
   ]
  },
  {
   "cell_type": "code",
   "execution_count": 7,
   "metadata": {},
   "outputs": [],
   "source": [
    "memorization_dir1 = \"../../generation_results_ablation_memorization\"\n",
    "memorization_dir2 = \"../../generation_results_ablation_memorization2\"\n",
    "generation_dir1 = \"../../generation_results\"\n",
    "generation_dir2 = \"../../generation_results_ablation\""
   ]
  },
  {
   "cell_type": "code",
   "execution_count": 8,
   "metadata": {},
   "outputs": [],
   "source": [
    "# get the intersection of files in both directories\n",
    "memorization_paths1 = os.listdir(memorization_dir1)\n",
    "memorization_paths2 = os.listdir(memorization_dir2)\n",
    "\n",
    "generation_paths1 = os.listdir(generation_dir1)\n",
    "generation_paths2 = os.listdir(generation_dir2)\n",
    "\n",
    "memorization_paths = memorization_paths1 + memorization_paths2\n",
    "generation_paths = generation_paths1 + generation_paths2\n",
    "\n",
    "intersection = list(set(memorization_paths).intersection(set(generation_paths)))[:10]"
   ]
  },
  {
   "cell_type": "code",
   "execution_count": 9,
   "metadata": {},
   "outputs": [],
   "source": [
    "import json\n",
    "\n",
    "org_docs = []\n",
    "mem_docs = []\n",
    "gen_docs = []\n",
    "\n",
    "for path in intersection:\n",
    "    #try:\n",
    "        #with open(f\"{memorization_dir1}/{path}\") as f:\n",
    "            #print(f.read())\n",
    "    #except:\n",
    "        #with open(f\"{memorization_dir2}/{path}\") as f:\n",
    "            #print(f.read())\n",
    "    # read as json\n",
    "    try:\n",
    "        with open(f\"{memorization_dir1}/{path}\") as f:\n",
    "            memorization = json.load(f)\n",
    "    except:\n",
    "        with open(f\"{memorization_dir2}/{path}\") as f:\n",
    "            memorization = json.load(f)\n",
    "    try:\n",
    "        with open(f\"{generation_dir1}/{path}\") as f:\n",
    "            generation = json.load(f)\n",
    "    except:\n",
    "        with open(f\"{generation_dir2}/{path}\") as f:\n",
    "            generation = json.load(f)\n",
    "    mem_doc = memorization[\"generated_text\"].replace(memorization[\"prompt\"], \"\")\n",
    "    gen_doc = generation[\"generated_text\"].replace(generation[\"prompt\"], \"\")\n",
    "    org_docs.append(memorization[\"original_text\"])\n",
    "    mem_docs.append(mem_doc)\n",
    "    gen_docs.append(gen_doc)"
   ]
  },
  {
   "cell_type": "code",
   "execution_count": 10,
   "metadata": {},
   "outputs": [],
   "source": [
    "# to df\n",
    "import pandas as pd\n",
    "\n",
    "#df = pd.DataFrame({\"original\": org_docs, \"memorization\": mem_docs, \"generation\": gen_docs})\n",
    "# to tsv\n",
    "#df.to_csv(\"ablation_comparison.tsv\", sep=\"\\t\", index=False)"
   ]
  },
  {
   "cell_type": "code",
   "execution_count": 11,
   "metadata": {},
   "outputs": [],
   "source": [
    "example_org_path = \"example_org_doc.txt\"\n",
    "example_org_doc = open(example_org_path).read()"
   ]
  },
  {
   "cell_type": "code",
   "execution_count": 12,
   "metadata": {},
   "outputs": [],
   "source": [
    "mem_docs = []\n",
    "\n",
    "for path in memorization_paths:\n",
    "    try:\n",
    "        with open(f\"{memorization_dir1}/{path}\") as f:\n",
    "            memorization = json.load(f)\n",
    "    except:\n",
    "        with open(f\"{memorization_dir2}/{path}\") as f:\n",
    "            memorization = json.load(f)\n",
    "    \n",
    "    mem_doc = memorization[\"generated_text\"].replace(memorization[\"prompt\"], \"\")\n",
    "    org_doc = memorization[\"original_text\"]\n",
    "    if org_doc == example_org_doc:\n",
    "        print(mem_doc)"
   ]
  },
  {
   "cell_type": "code",
   "execution_count": null,
   "metadata": {},
   "outputs": [],
   "source": []
  }
 ],
 "metadata": {
  "kernelspec": {
   "display_name": "llm",
   "language": "python",
   "name": "python3"
  },
  "language_info": {
   "codemirror_mode": {
    "name": "ipython",
    "version": 3
   },
   "file_extension": ".py",
   "mimetype": "text/x-python",
   "name": "python",
   "nbconvert_exporter": "python",
   "pygments_lexer": "ipython3",
   "version": "3.11.9"
  }
 },
 "nbformat": 4,
 "nbformat_minor": 2
}
