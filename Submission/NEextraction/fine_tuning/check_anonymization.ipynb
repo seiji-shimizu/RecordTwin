{
 "cells": [
  {
   "cell_type": "code",
   "execution_count": 1,
   "metadata": {},
   "outputs": [],
   "source": [
    "import json\n",
    "\n",
    "data_path = '../NEextraction/entity_dict_negated.json'\n",
    "\n",
    "# read as lines of json\n",
    "json_list = []\n",
    "with open(data_path, 'r') as f:\n",
    "    lines = f.readlines()\n",
    "    for line in lines:\n",
    "        json_list.append(json.loads(line))\n"
   ]
  },
  {
   "cell_type": "code",
   "execution_count": 2,
   "metadata": {},
   "outputs": [
    {
     "name": "stdout",
     "output_type": "stream",
     "text": [
      "59652\n"
     ]
    }
   ],
   "source": [
    "import pandas as pd\n",
    "df = pd.DataFrame(json_list)\n",
    "print(len(df))"
   ]
  },
  {
   "cell_type": "code",
   "execution_count": 3,
   "metadata": {},
   "outputs": [
    {
     "data": {
      "text/html": [
       "<div>\n",
       "<style scoped>\n",
       "    .dataframe tbody tr th:only-of-type {\n",
       "        vertical-align: middle;\n",
       "    }\n",
       "\n",
       "    .dataframe tbody tr th {\n",
       "        vertical-align: top;\n",
       "    }\n",
       "\n",
       "    .dataframe thead th {\n",
       "        text-align: right;\n",
       "    }\n",
       "</style>\n",
       "<table border=\"1\" class=\"dataframe\">\n",
       "  <thead>\n",
       "    <tr style=\"text-align: right;\">\n",
       "      <th></th>\n",
       "      <th>row_id</th>\n",
       "      <th>entities</th>\n",
       "    </tr>\n",
       "  </thead>\n",
       "  <tbody>\n",
       "    <tr>\n",
       "      <th>0</th>\n",
       "      <td>53641</td>\n",
       "      <td>[&lt;e0&gt; Admission &lt;/e0&gt;, &lt;e1&gt; Discharge &lt;/e1&gt;, &lt;...</td>\n",
       "    </tr>\n",
       "    <tr>\n",
       "      <th>1</th>\n",
       "      <td>58959</td>\n",
       "      <td>[&lt;br&gt;, &lt;br&gt;, &lt;e0&gt; Admission &lt;/e0&gt;, &lt;e1&gt; Discha...</td>\n",
       "    </tr>\n",
       "    <tr>\n",
       "      <th>2</th>\n",
       "      <td>43422</td>\n",
       "      <td>[&lt;e0&gt; Admission &lt;/e0&gt;, &lt;e1&gt; Discharge &lt;/e1&gt;, &lt;...</td>\n",
       "    </tr>\n",
       "    <tr>\n",
       "      <th>3</th>\n",
       "      <td>49890</td>\n",
       "      <td>[&lt;e0&gt; Admission &lt;/e0&gt;, &lt;e1&gt; Discharge &lt;/e1&gt;, &lt;...</td>\n",
       "    </tr>\n",
       "    <tr>\n",
       "      <th>4</th>\n",
       "      <td>27954</td>\n",
       "      <td>[&lt;e0&gt; Admission &lt;/e0&gt;, &lt;e1&gt; Discharge &lt;/e1&gt;, &lt;...</td>\n",
       "    </tr>\n",
       "  </tbody>\n",
       "</table>\n",
       "</div>"
      ],
      "text/plain": [
       "  row_id                                           entities\n",
       "0  53641  [<e0> Admission </e0>, <e1> Discharge </e1>, <...\n",
       "1  58959  [<br>, <br>, <e0> Admission </e0>, <e1> Discha...\n",
       "2  43422  [<e0> Admission </e0>, <e1> Discharge </e1>, <...\n",
       "3  49890  [<e0> Admission </e0>, <e1> Discharge </e1>, <...\n",
       "4  27954  [<e0> Admission </e0>, <e1> Discharge </e1>, <..."
      ]
     },
     "execution_count": 3,
     "metadata": {},
     "output_type": "execute_result"
    }
   ],
   "source": [
    "df.head()"
   ]
  },
  {
   "cell_type": "code",
   "execution_count": 4,
   "metadata": {},
   "outputs": [
    {
     "name": "stderr",
     "output_type": "stream",
     "text": [
      "  0%|          | 0/59652 [00:00<?, ?it/s]"
     ]
    },
    {
     "name": "stderr",
     "output_type": "stream",
     "text": [
      "100%|██████████| 59652/59652 [01:16<00:00, 780.02it/s]\n"
     ]
    }
   ],
   "source": [
    "# extracting only PROBLEM\n",
    "\n",
    "import re\n",
    "# iter through rows\n",
    "doc_ent_list = []\n",
    "id_list  = []\n",
    "\n",
    "start_tag_regex = re.compile(r'<e\\d+>')\n",
    "end_tag_regex = re.compile(r'</e\\d+>')\n",
    "        \n",
    "import tqdm\n",
    "\n",
    "for i, row in tqdm.tqdm(df.iterrows(), total=len(df)):\n",
    "    ent_set = set()\n",
    "    for ent in list(row['entities']):\n",
    "        ent = re.sub(start_tag_regex, '', ent)\n",
    "        ent = re.sub(end_tag_regex, '', ent)\n",
    "        ent = ent.lower()\n",
    "        if '[pos]' in ent or '[neg]' in ent:\n",
    "            ent = re.sub(r'\\[pos\\]', '', ent)\n",
    "            ent = re.sub(r'\\[neg\\]', '', ent)\n",
    "            if ent != '':\n",
    "                ent = ent.strip()\n",
    "                ent_set.add(ent)\n",
    "        #ent_set.add(ent)    \n",
    "    id = row['row_id']\n",
    "    doc_ent_list.append(ent_set)\n",
    "    id_list.append(id)"
   ]
  },
  {
   "cell_type": "code",
   "execution_count": 30,
   "metadata": {},
   "outputs": [],
   "source": [
    "from sklearn.feature_extraction.text import CountVectorizer\n",
    "\n",
    "# Initialize CountVectorizer\n",
    "vectorizer = CountVectorizer(analyzer=lambda x: x)\n",
    "\n",
    "X = vectorizer.fit_transform(doc_ent_list)\n",
    "feature_names = vectorizer.get_feature_names_out()"
   ]
  },
  {
   "cell_type": "code",
   "execution_count": 31,
   "metadata": {},
   "outputs": [],
   "source": [
    "# get feature names with low frequency\n",
    "\n",
    "import numpy as np\n",
    "\n",
    "# sum over rows\n",
    "X = np.sum(X, axis=0)\n",
    "X = np.array(X).reshape(-1)\n",
    "\n",
    "# get feature names with low frequency\n",
    "low_freq_feature_names = []\n",
    "for i, freq in enumerate(X):\n",
    "    if freq == 1:\n",
    "        low_freq_feature_names.append(feature_names[i])"
   ]
  },
  {
   "cell_type": "code",
   "execution_count": 32,
   "metadata": {},
   "outputs": [
    {
     "data": {
      "text/plain": [
       "342369"
      ]
     },
     "execution_count": 32,
     "metadata": {},
     "output_type": "execute_result"
    }
   ],
   "source": [
    "len(low_freq_feature_names)"
   ]
  },
  {
   "cell_type": "code",
   "execution_count": 33,
   "metadata": {},
   "outputs": [
    {
     "data": {
      "text/plain": [
       "['\"10 screws',\n",
       " '\"4',\n",
       " '\"93% blockage\"',\n",
       " '\"abdominal\" cancer',\n",
       " '\"adverse rxn\".',\n",
       " '\"agonal',\n",
       " '\"agonal breathing.\"',\n",
       " '\"alcoholic coma\"',\n",
       " '\"allergy pills\",',\n",
       " '\"almost black\"',\n",
       " '\"altered\"',\n",
       " '\"anti-inflammatory effect\".',\n",
       " '\"antibiotics,\"',\n",
       " '\"arteriosclerosis\"',\n",
       " '\"arthritis,\"',\n",
       " '\"asthma',\n",
       " '\"asthma\" symptoms',\n",
       " '\"babbling\"',\n",
       " '\"back problems\"',\n",
       " '\"back to back\"',\n",
       " '\"bad\" taste in',\n",
       " '\"balance disorder/falls\"),',\n",
       " '\"barrett\\'s\"',\n",
       " '\"basal ganglia\" hemorrhage on the left.',\n",
       " '\"benign bladder lesions\"',\n",
       " '\"bigeminy\"',\n",
       " '\"black',\n",
       " '\"blacking out\"',\n",
       " '\"bladder medication\"',\n",
       " '\"bladder sling\"']"
      ]
     },
     "execution_count": 33,
     "metadata": {},
     "output_type": "execute_result"
    }
   ],
   "source": [
    "low_freq_feature_names[:30]"
   ]
  },
  {
   "cell_type": "code",
   "execution_count": null,
   "metadata": {},
   "outputs": [],
   "source": []
  }
 ],
 "metadata": {
  "kernelspec": {
   "display_name": "anonymization",
   "language": "python",
   "name": "python3"
  },
  "language_info": {
   "codemirror_mode": {
    "name": "ipython",
    "version": 3
   },
   "file_extension": ".py",
   "mimetype": "text/x-python",
   "name": "python",
   "nbconvert_exporter": "python",
   "pygments_lexer": "ipython3",
   "version": "3.8.19"
  }
 },
 "nbformat": 4,
 "nbformat_minor": 2
}
