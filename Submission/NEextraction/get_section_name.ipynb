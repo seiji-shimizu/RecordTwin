{
 "cells": [
  {
   "cell_type": "code",
   "execution_count": 1,
   "metadata": {},
   "outputs": [],
   "source": [
    "import os\n",
    "import pickle\n",
    "import tqdm\n",
    "import json\n"
   ]
  },
  {
   "cell_type": "code",
   "execution_count": 2,
   "metadata": {},
   "outputs": [
    {
     "name": "stderr",
     "output_type": "stream",
     "text": [
      "100%|██████████| 59652/59652 [02:24<00:00, 413.42it/s] \n"
     ]
    }
   ],
   "source": [
    "section_name_set = ['admission, date:', 'service:', 'allergies:','chief, complaint:','major, surgical, or, invasive, procedure:','history, of, present, illness:', 'past, medical, history:', 'past, surgical, history:', 'allergies:', 'medications, on, admission:', 'physical, examination:', 'physical, exam:', 'hospital, course:', 'discharge, diagnosis:', 'discharge, medications:', 'discharge, instructions:', 'follow-up, instructions:', 'follow-up, plan:', 'follow-up, medications:', 'follow-up, diagnosis:',  'medications:', 'initial, laboratory, studies:', 'partnent, results:', 'family, history:', 'social, history:']\n",
    "                    \n",
    "folder = 'word_label_pairs'\n",
    "\n",
    "# list of all path\n",
    "all_word_label_pairs_list = [os.path.join(folder, file) for file in os.listdir(folder)]\n",
    "\n",
    "all_section_line_id = {}\n",
    "\n",
    "for all_word_label_pairs_path in tqdm.tqdm(all_word_label_pairs_list, total=len(all_word_label_pairs_list)):\n",
    "    # read pickle\n",
    "    with open(all_word_label_pairs_path, 'rb') as f:\n",
    "        word_label_pairs = pickle.load(f)\n",
    "    row_id = all_word_label_pairs_path.replace('.pkl', '').replace('word_label_pairs/', '')\n",
    "    word_list = [i[0] for key, i in word_label_pairs[0].items()]\n",
    "    all_ent_str = \", \".join(word_list)\n",
    "    all_ent_lines = all_ent_str.split('\\n')\n",
    "\n",
    "    section_line_id = {}\n",
    "    for i, line in enumerate(all_ent_lines):\n",
    "        # if line include any of section_name_set\n",
    "        if any([section_name in line.lower() for section_name in section_name_set]):\n",
    "            # get section name\n",
    "            section_name = [section_name for section_name in section_name_set if section_name in line.lower()][0]\n",
    "            section_line_id[section_name] = i\n",
    "    all_section_line_id[row_id] = {\"section_line_id\":section_line_id}\n"
   ]
  },
  {
   "cell_type": "code",
   "execution_count": 3,
   "metadata": {},
   "outputs": [],
   "source": [
    "json_path = '../NEextraction/entity_dict_negated.json'\n",
    "json_list = []\n",
    "with open(json_path, 'r') as f:\n",
    "    # read lines\n",
    "    lines = f.readlines()\n",
    "    # each line is a json object\n",
    "    for line in lines:\n",
    "        json_list.append(json.loads(line))"
   ]
  },
  {
   "cell_type": "code",
   "execution_count": 4,
   "metadata": {},
   "outputs": [],
   "source": [
    "new_json_list = []\n",
    "for row in json_list:\n",
    "    row_id = row['row_id']\n",
    "    entities = row['entities']\n",
    "    section_name_dict = all_section_line_id[row_id]['section_line_id']\n",
    "    break_line_indices = [i for i, entity in enumerate(entities) if entity == '<br>']\n",
    "    #ent_list = ' '.join(all_section_line_id[row_id]['ent']).split('\\n')\n",
    "    new_section_name_dict = {}  \n",
    "    for k,v in section_name_dict.items():\n",
    "        if v == 0:\n",
    "            new_section_name_dict[0] = k\n",
    "        else:\n",
    "            new_section_name_dict[break_line_indices[v-1]+1] = k\n",
    "    new_entities = []\n",
    "    for i, entity in enumerate(entities):\n",
    "        if i in new_section_name_dict.keys():\n",
    "            new_entities.append(\"~\"+\" \".join(new_section_name_dict[i].split(','))+\"~\")\n",
    "            new_entities.append(entity)\n",
    "        else:\n",
    "            new_entities.append(entity)\n",
    "    new_json_list.append({\"row_id\": row_id, \"entities\": new_entities})\n",
    "    \n",
    "     "
   ]
  },
  {
   "cell_type": "code",
   "execution_count": 5,
   "metadata": {},
   "outputs": [],
   "source": [
    "save_path  = '../NEextraction/sectioned_entity_dict_negated.json'\n",
    "\n",
    "# save as lines of json\n",
    "with open(save_path, 'w') as f:\n",
    "    for row in new_json_list:\n",
    "        f.write(json.dumps(row) + '\\n')\n",
    "\n",
    "# read\n",
    "\n",
    "#json_#path = '../NEextraction/sectioned_entity_dict_negated.json'\n",
    "#json_list = []\n",
    "#with open(json_path, 'r') as f:\n",
    "#    # read lines\n",
    "#    lines = f.readlines()\n",
    "#    # each line is a json object\n",
    "#    for line in lines:\n",
    "#        json_list.append(json.loads(line))"
   ]
  },
  {
   "cell_type": "code",
   "execution_count": null,
   "metadata": {},
   "outputs": [],
   "source": [
    "comman_removed_section_name_set = []\n",
    "for section_name in section_name_set:\n",
    "    comman_removed_section_name_set.append(section_name.replace(',', ' '))\n",
    "print(comman_removed_section_name_set)"
   ]
  },
  {
   "cell_type": "code",
   "execution_count": null,
   "metadata": {},
   "outputs": [],
   "source": []
  }
 ],
 "metadata": {
  "kernelspec": {
   "display_name": "vae_generation",
   "language": "python",
   "name": "python3"
  },
  "language_info": {
   "codemirror_mode": {
    "name": "ipython",
    "version": 3
   },
   "file_extension": ".py",
   "mimetype": "text/x-python",
   "name": "python",
   "nbconvert_exporter": "python",
   "pygments_lexer": "ipython3",
   "version": "3.7.13"
  }
 },
 "nbformat": 4,
 "nbformat_minor": 2
}
