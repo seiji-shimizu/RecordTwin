{
 "cells": [
  {
   "cell_type": "code",
   "execution_count": 2,
   "metadata": {},
   "outputs": [],
   "source": [
    "import pandas as pd\n",
    "import json\n",
    "from sklearn.feature_extraction.text import CountVectorizer\n"
   ]
  },
  {
   "cell_type": "code",
   "execution_count": 3,
   "metadata": {},
   "outputs": [],
   "source": [
    "json_path = 'entity_dict_negated.json'\n",
    "\n",
    "json_list = []\n",
    "\n",
    "with open(json_path, 'r') as f:\n",
    "    # read lines\n",
    "    lines = f.readlines()\n",
    "    # each line is a json object\n",
    "    for line in lines:\n",
    "        json_list.append(json.loads(line))\n",
    "# to df\n",
    "json_df = pd.DataFrame(json_list)\n",
    "\n",
    "#len_list = []\n",
    "#for i, row in json_df.iterrows():\n",
    "#    sample_ent_list = [i for i in list(row['entities']) if i != '<br>']\n",
    "#    len_list.append(len(sample_ent_list))\n"
   ]
  },
  {
   "cell_type": "code",
   "execution_count": 3,
   "metadata": {},
   "outputs": [
    {
     "data": {
      "text/plain": [
       "2147"
      ]
     },
     "execution_count": 3,
     "metadata": {},
     "output_type": "execute_result"
    }
   ],
   "source": [
    "len(json_df)"
   ]
  },
  {
   "cell_type": "code",
   "execution_count": 7,
   "metadata": {},
   "outputs": [
    {
     "name": "stdout",
     "output_type": "stream",
     "text": [
      "16071\n",
      "16077\n"
     ]
    }
   ],
   "source": [
    "print(len(set(json_df['row_id'])))\n",
    "print(len(json_df['row_id']))\n"
   ]
  },
  {
   "cell_type": "code",
   "execution_count": null,
   "metadata": {},
   "outputs": [],
   "source": [
    "def return_entity_list(json_obj):\n",
    "    entity_list = []\n",
    "    row_id = json_obj['row_id']\n",
    "    entities = json_obj['entities']\n",
    "    # entit_list to dict\n",
    "    entity_dict = {}\n",
    "    for ent in entities:\n",
    "        if ent[1] in entity_dict:\n",
    "            entity_dict[ent[1]].append(ent[0])\n",
    "        else:\n",
    "            entity_dict[ent[1]] = [ent[0]]\n",
    "\n",
    "    for key, value in entity_dict.items():   \n",
    "        if key in {'CLINICAL_DEPT','OCCURRENCE','EVIDENTIAL','O'}:\n",
    "            pass\n",
    "        else:\n",
    "            for entity in value:\n",
    "                #entity_list.append(key+'_'+entity)\n",
    "                # lowercase entity\n",
    "                entity = entity.lower().strip()\n",
    "                # delete ',' and ':' at the end of entity\n",
    "                if entity[-1] in {',',':'}:\n",
    "                    entity = entity.replace(',','').replace(':','')\n",
    "                if entity[:2] == 'a ':\n",
    "                    entity = entity[2:]\n",
    "                entity_list.append('<type: '+key+'>'+entity)\n",
    "                \n",
    "    return entity_list, row_id"
   ]
  },
  {
   "cell_type": "code",
   "execution_count": null,
   "metadata": {},
   "outputs": [],
   "source": [
    "doc_ent_list = []\n",
    "id_list  = []\n",
    "\n",
    "for json_obj in json_list:\n",
    "    entity_list, id = return_entity_list(json_obj)\n",
    "    entity_set = list(set(entity_list))\n",
    "    doc_ent_list.append(entity_set)\n",
    "    id_list.append(id)\n",
    "    "
   ]
  },
  {
   "cell_type": "code",
   "execution_count": null,
   "metadata": {},
   "outputs": [],
   "source": [
    "# Initialize CountVectorizer\n",
    "vectorizer = CountVectorizer(analyzer=lambda x: x)\n",
    "\n",
    "X = vectorizer.fit_transform(doc_ent_list[:10000])\n",
    "\n",
    "feature_names = vectorizer.get_feature_names_out()\n",
    "\n",
    "# X to df\n",
    "df = pd.DataFrame(X.toarray(), columns=feature_names, index=id_list[:10000])"
   ]
  },
  {
   "cell_type": "code",
   "execution_count": null,
   "metadata": {},
   "outputs": [
    {
     "data": {
      "text/plain": [
       "411006"
      ]
     },
     "execution_count": 15,
     "metadata": {},
     "output_type": "execute_result"
    }
   ],
   "source": [
    "len(df.columns)"
   ]
  },
  {
   "cell_type": "code",
   "execution_count": null,
   "metadata": {},
   "outputs": [],
   "source": [
    "# delete columns whose sum is less than threshold\n",
    "threshold = 100\n",
    "df = df.loc[:, df.sum() > threshold]"
   ]
  },
  {
   "cell_type": "code",
   "execution_count": null,
   "metadata": {},
   "outputs": [
    {
     "data": {
      "text/plain": [
       "2909"
      ]
     },
     "execution_count": 17,
     "metadata": {},
     "output_type": "execute_result"
    }
   ],
   "source": [
    "len(df.columns)"
   ]
  },
  {
   "cell_type": "code",
   "execution_count": null,
   "metadata": {},
   "outputs": [],
   "source": [
    "# delete first 8 columns\n",
    "df = df.iloc[:,8:]"
   ]
  },
  {
   "cell_type": "code",
   "execution_count": null,
   "metadata": {},
   "outputs": [
    {
     "data": {
      "text/plain": [
       "10000"
      ]
     },
     "execution_count": 19,
     "metadata": {},
     "output_type": "execute_result"
    }
   ],
   "source": [
    "len(df)"
   ]
  },
  {
   "cell_type": "code",
   "execution_count": null,
   "metadata": {},
   "outputs": [
    {
     "name": "stdout",
     "output_type": "stream",
     "text": [
      "7304\n"
     ]
    }
   ],
   "source": [
    "# get unique vectors (rows) in the df\n",
    "df_unique = df.drop_duplicates()\n",
    "\n",
    "print(len(df_unique))"
   ]
  },
  {
   "cell_type": "code",
   "execution_count": null,
   "metadata": {},
   "outputs": [],
   "source": [
    "# to csv\n",
    "df.to_csv('entity_matrix.csv')"
   ]
  },
  {
   "cell_type": "code",
   "execution_count": null,
   "metadata": {},
   "outputs": [
    {
     "data": {
      "text/plain": [
       "99.6303"
      ]
     },
     "execution_count": 20,
     "metadata": {},
     "output_type": "execute_result"
    }
   ],
   "source": [
    "# average of sum of row vectors\n",
    "df.sum(axis=1).mean()"
   ]
  }
 ],
 "metadata": {
  "kernelspec": {
   "display_name": "temprel",
   "language": "python",
   "name": "python3"
  },
  "language_info": {
   "codemirror_mode": {
    "name": "ipython",
    "version": 3
   },
   "file_extension": ".py",
   "mimetype": "text/x-python",
   "name": "python",
   "nbconvert_exporter": "python",
   "pygments_lexer": "ipython3",
   "version": "3.8.19"
  }
 },
 "nbformat": 4,
 "nbformat_minor": 2
}
